{
  "cells": [
    {
      "cell_type": "markdown",
      "metadata": {
        "id": "yZ3D79E8x8sB"
      },
      "source": [
        "# Lab:  Model Selection for Neural Data\n",
        "\n",
        "Machine learning is a key tool for neuroscientists to understand how sensory and motor signals are encoded in the brain. In addition to improving our scientific understanding of neural phenomena, understanding neural encoding is critical for brain machine interfaces. In this lab, you will use linear regression with feature selection for performing some simple analysis on real neural signals.\n",
        "\n",
        "Before doing this lab, you should review the ideas in the [polynomial model selection demo](./polyfit.ipynb).  In addition to the concepts in that demo, you will learn to:\n",
        "* Load MATLAB data\n",
        "* Formulate models of different complexities using heuristic model selection\n",
        "* Fit a linear model for the different model orders (= # of features)\n",
        "* Select the optimal features via cross-validation\n",
        "  "
      ]
    },
    {
      "cell_type": "markdown",
      "metadata": {
        "id": "vKV48JsOx8sE"
      },
      "source": [
        "## Loading the data\n",
        "\n",
        "The data in this lab comes from neural recordings described in:\n",
        "\n",
        "<a href=\"http://jn.physiology.org/content/106/2/764.short\">\n",
        "Stevenson, Ian H., et al. \"Statistical assessment of the stability of neural movement representations.\" Journal of neurophysiology 106.2 (2011): 764-774</a>\n",
        "\n",
        "Neurons are the basic information processing units in the brain.  Neurons communicate with one another via *spikes* or *action potentials* which are brief events where voltage in the neuron rapidly rises then falls.  These spikes trigger the electro-chemical signals between one neuron and another.  In this experiment, the spikes were recorded from 196 neurons in the primary motor cortex (M1) of a monkey using an electrode array implanted onto the surface of a monkey's brain.  During the recording, the monkey performed several reaching tasks and the position and velocity of the hand was recorded as well.  \n",
        "\n",
        "The goal of the experiment is to try to *read the monkey's brain*:  That is, predict the hand position from the neural signals from the motor cortex.\n",
        "\n",
        "We first load the basic packages."
      ]
    },
    {
      "cell_type": "code",
      "execution_count": 1,
      "metadata": {
        "collapsed": true,
        "id": "IkVNt5bKx8sE"
      },
      "outputs": [],
      "source": [
        "import numpy as np\n",
        "import matplotlib\n",
        "import matplotlib.pyplot as plt\n",
        "%matplotlib inline"
      ]
    },
    {
      "cell_type": "markdown",
      "metadata": {
        "id": "psKxcz4ux8sF"
      },
      "source": [
        "The full data is available on the CRCNS website  http://crcns.org/data-sets/movements/dream.  This website has a large number of great datasets and can be used for projects as well.  To make this lab easier, I have pre-processed the data slightly and placed it in the file `StevensonV2.mat`, which is a MATLAB file.  You will need to have this file downloaded in the directory you are working on.\n",
        "\n",
        "Since MATLAB is widely-used, `python` provides method for loading MATLAB `mat` files.  We can use these commands to load the data as follows."
      ]
    },
    {
      "cell_type": "code",
      "execution_count": 2,
      "metadata": {
        "collapsed": true,
        "colab": {
          "base_uri": "https://localhost:8080/",
          "height": 74
        },
        "id": "UWgmNAnhx8sF",
        "outputId": "ca726595-9fe4-4ab0-e54f-d491954f9e9e"
      },
      "outputs": [
        {
          "output_type": "display_data",
          "data": {
            "text/plain": [
              "<IPython.core.display.HTML object>"
            ],
            "text/html": [
              "\n",
              "     <input type=\"file\" id=\"files-b4b00f3c-e3d5-4a59-9e74-6f0da33b770f\" name=\"files[]\" multiple disabled\n",
              "        style=\"border:none\" />\n",
              "     <output id=\"result-b4b00f3c-e3d5-4a59-9e74-6f0da33b770f\">\n",
              "      Upload widget is only available when the cell has been executed in the\n",
              "      current browser session. Please rerun this cell to enable.\n",
              "      </output>\n",
              "      <script>// Copyright 2017 Google LLC\n",
              "//\n",
              "// Licensed under the Apache License, Version 2.0 (the \"License\");\n",
              "// you may not use this file except in compliance with the License.\n",
              "// You may obtain a copy of the License at\n",
              "//\n",
              "//      http://www.apache.org/licenses/LICENSE-2.0\n",
              "//\n",
              "// Unless required by applicable law or agreed to in writing, software\n",
              "// distributed under the License is distributed on an \"AS IS\" BASIS,\n",
              "// WITHOUT WARRANTIES OR CONDITIONS OF ANY KIND, either express or implied.\n",
              "// See the License for the specific language governing permissions and\n",
              "// limitations under the License.\n",
              "\n",
              "/**\n",
              " * @fileoverview Helpers for google.colab Python module.\n",
              " */\n",
              "(function(scope) {\n",
              "function span(text, styleAttributes = {}) {\n",
              "  const element = document.createElement('span');\n",
              "  element.textContent = text;\n",
              "  for (const key of Object.keys(styleAttributes)) {\n",
              "    element.style[key] = styleAttributes[key];\n",
              "  }\n",
              "  return element;\n",
              "}\n",
              "\n",
              "// Max number of bytes which will be uploaded at a time.\n",
              "const MAX_PAYLOAD_SIZE = 100 * 1024;\n",
              "\n",
              "function _uploadFiles(inputId, outputId) {\n",
              "  const steps = uploadFilesStep(inputId, outputId);\n",
              "  const outputElement = document.getElementById(outputId);\n",
              "  // Cache steps on the outputElement to make it available for the next call\n",
              "  // to uploadFilesContinue from Python.\n",
              "  outputElement.steps = steps;\n",
              "\n",
              "  return _uploadFilesContinue(outputId);\n",
              "}\n",
              "\n",
              "// This is roughly an async generator (not supported in the browser yet),\n",
              "// where there are multiple asynchronous steps and the Python side is going\n",
              "// to poll for completion of each step.\n",
              "// This uses a Promise to block the python side on completion of each step,\n",
              "// then passes the result of the previous step as the input to the next step.\n",
              "function _uploadFilesContinue(outputId) {\n",
              "  const outputElement = document.getElementById(outputId);\n",
              "  const steps = outputElement.steps;\n",
              "\n",
              "  const next = steps.next(outputElement.lastPromiseValue);\n",
              "  return Promise.resolve(next.value.promise).then((value) => {\n",
              "    // Cache the last promise value to make it available to the next\n",
              "    // step of the generator.\n",
              "    outputElement.lastPromiseValue = value;\n",
              "    return next.value.response;\n",
              "  });\n",
              "}\n",
              "\n",
              "/**\n",
              " * Generator function which is called between each async step of the upload\n",
              " * process.\n",
              " * @param {string} inputId Element ID of the input file picker element.\n",
              " * @param {string} outputId Element ID of the output display.\n",
              " * @return {!Iterable<!Object>} Iterable of next steps.\n",
              " */\n",
              "function* uploadFilesStep(inputId, outputId) {\n",
              "  const inputElement = document.getElementById(inputId);\n",
              "  inputElement.disabled = false;\n",
              "\n",
              "  const outputElement = document.getElementById(outputId);\n",
              "  outputElement.innerHTML = '';\n",
              "\n",
              "  const pickedPromise = new Promise((resolve) => {\n",
              "    inputElement.addEventListener('change', (e) => {\n",
              "      resolve(e.target.files);\n",
              "    });\n",
              "  });\n",
              "\n",
              "  const cancel = document.createElement('button');\n",
              "  inputElement.parentElement.appendChild(cancel);\n",
              "  cancel.textContent = 'Cancel upload';\n",
              "  const cancelPromise = new Promise((resolve) => {\n",
              "    cancel.onclick = () => {\n",
              "      resolve(null);\n",
              "    };\n",
              "  });\n",
              "\n",
              "  // Wait for the user to pick the files.\n",
              "  const files = yield {\n",
              "    promise: Promise.race([pickedPromise, cancelPromise]),\n",
              "    response: {\n",
              "      action: 'starting',\n",
              "    }\n",
              "  };\n",
              "\n",
              "  cancel.remove();\n",
              "\n",
              "  // Disable the input element since further picks are not allowed.\n",
              "  inputElement.disabled = true;\n",
              "\n",
              "  if (!files) {\n",
              "    return {\n",
              "      response: {\n",
              "        action: 'complete',\n",
              "      }\n",
              "    };\n",
              "  }\n",
              "\n",
              "  for (const file of files) {\n",
              "    const li = document.createElement('li');\n",
              "    li.append(span(file.name, {fontWeight: 'bold'}));\n",
              "    li.append(span(\n",
              "        `(${file.type || 'n/a'}) - ${file.size} bytes, ` +\n",
              "        `last modified: ${\n",
              "            file.lastModifiedDate ? file.lastModifiedDate.toLocaleDateString() :\n",
              "                                    'n/a'} - `));\n",
              "    const percent = span('0% done');\n",
              "    li.appendChild(percent);\n",
              "\n",
              "    outputElement.appendChild(li);\n",
              "\n",
              "    const fileDataPromise = new Promise((resolve) => {\n",
              "      const reader = new FileReader();\n",
              "      reader.onload = (e) => {\n",
              "        resolve(e.target.result);\n",
              "      };\n",
              "      reader.readAsArrayBuffer(file);\n",
              "    });\n",
              "    // Wait for the data to be ready.\n",
              "    let fileData = yield {\n",
              "      promise: fileDataPromise,\n",
              "      response: {\n",
              "        action: 'continue',\n",
              "      }\n",
              "    };\n",
              "\n",
              "    // Use a chunked sending to avoid message size limits. See b/62115660.\n",
              "    let position = 0;\n",
              "    do {\n",
              "      const length = Math.min(fileData.byteLength - position, MAX_PAYLOAD_SIZE);\n",
              "      const chunk = new Uint8Array(fileData, position, length);\n",
              "      position += length;\n",
              "\n",
              "      const base64 = btoa(String.fromCharCode.apply(null, chunk));\n",
              "      yield {\n",
              "        response: {\n",
              "          action: 'append',\n",
              "          file: file.name,\n",
              "          data: base64,\n",
              "        },\n",
              "      };\n",
              "\n",
              "      let percentDone = fileData.byteLength === 0 ?\n",
              "          100 :\n",
              "          Math.round((position / fileData.byteLength) * 100);\n",
              "      percent.textContent = `${percentDone}% done`;\n",
              "\n",
              "    } while (position < fileData.byteLength);\n",
              "  }\n",
              "\n",
              "  // All done.\n",
              "  yield {\n",
              "    response: {\n",
              "      action: 'complete',\n",
              "    }\n",
              "  };\n",
              "}\n",
              "\n",
              "scope.google = scope.google || {};\n",
              "scope.google.colab = scope.google.colab || {};\n",
              "scope.google.colab._files = {\n",
              "  _uploadFiles,\n",
              "  _uploadFilesContinue,\n",
              "};\n",
              "})(self);\n",
              "</script> "
            ]
          },
          "metadata": {}
        },
        {
          "output_type": "stream",
          "name": "stdout",
          "text": [
            "Saving StevensonV2.mat to StevensonV2.mat\n"
          ]
        }
      ],
      "source": [
        "import scipy.io\n",
        "from google.colab import files\n",
        "uploaded = files.upload()\n",
        "mat_dict = scipy.io.loadmat('/content/StevensonV2.mat')"
      ]
    },
    {
      "cell_type": "markdown",
      "metadata": {
        "id": "rY6p-N1px8sG"
      },
      "source": [
        "The returned structure, `mat_dict`, is a dictionary with each of the MATLAB variables that were saved in the `.mat` file.  Use the `.keys()` method to list all the variables."
      ]
    },
    {
      "cell_type": "code",
      "execution_count": 3,
      "metadata": {
        "collapsed": true,
        "colab": {
          "base_uri": "https://localhost:8080/"
        },
        "id": "t0nyx-8Gx8sG",
        "outputId": "a81ad6c0-872d-46ce-94a7-f1715da562f4"
      },
      "outputs": [
        {
          "output_type": "stream",
          "name": "stdout",
          "text": [
            "dict_keys(['__header__', '__version__', '__globals__', 'Publication', 'timeBase', 'spikes', 'time', 'handVel', 'handPos', 'target', 'startBins', 'targets', 'startBinned'])\n"
          ]
        }
      ],
      "source": [
        "print(mat_dict.keys())"
      ]
    },
    {
      "cell_type": "markdown",
      "metadata": {
        "id": "7vJf_c0ix8sG"
      },
      "source": [
        "We extract two variables, `spikes` and `handPos`, from the dictionary `mat_dict`, which represent the recorded spikes per neuron and the hand position.  We take the transpose of the spikes data so that it is in the form time bins $\\times$ number of neurons.  For the `handPos` data, we take the second component which is the position of monkey's hand."
      ]
    },
    {
      "cell_type": "code",
      "execution_count": 4,
      "metadata": {
        "collapsed": true,
        "id": "_5RFL7wEx8sG"
      },
      "outputs": [],
      "source": [
        "X0 = mat_dict['spikes'].T\n",
        "y0 = mat_dict['handPos'][0,:]"
      ]
    },
    {
      "cell_type": "markdown",
      "metadata": {
        "id": "0KuVKjkqx8sG"
      },
      "source": [
        "The `spikes` matrix will be a `nt x nneuron` matrix where `nt` is the number of time bins and `nneuron` is the number of neurons.  Each entry `spikes[k,j]` is the number of spikes in time bin `k` from neuron `j`.  Use the `shape` method to find `nt` and `nneuron` and print the values."
      ]
    },
    {
      "cell_type": "code",
      "execution_count": 5,
      "metadata": {
        "collapsed": true,
        "colab": {
          "base_uri": "https://localhost:8080/"
        },
        "id": "up1USH8dx8sH",
        "outputId": "5686149a-b80f-4d27-845c-1fbf9948e281"
      },
      "outputs": [
        {
          "output_type": "stream",
          "name": "stdout",
          "text": [
            "nt # of time bins 196\n",
            "# of neurons 15536\n"
          ]
        }
      ],
      "source": [
        "# TODO\n",
        "nt, nneuron = mat_dict['spikes'].shape #nt by nnueron matrix\n",
        "print(\"nt # of time bins\", nt)\n",
        "print(\"# of neurons\", nneuron)"
      ]
    },
    {
      "cell_type": "markdown",
      "metadata": {
        "id": "JyT-8yecx8sH"
      },
      "source": [
        "Now extract the `time` variable from the `mat_dict` dictionary.  Reshape this to a 1D array with `nt` components.  Each entry `time[k]` is the starting time of the time bin `k`.  Find the sampling time `tsamp` which is the time between measurements, and `ttotal` which is the total duration of the recording."
      ]
    },
    {
      "cell_type": "code",
      "execution_count": 6,
      "metadata": {
        "collapsed": true,
        "colab": {
          "base_uri": "https://localhost:8080/"
        },
        "id": "O0tp7VATx8sH",
        "outputId": "f8f23e43-11c9-4023-b6e8-616b1eff314b"
      },
      "outputs": [
        {
          "output_type": "stream",
          "name": "stdout",
          "text": [
            "Sampling time 0.049999999999998934\n",
            "Total duration of recording 776.75\n"
          ]
        }
      ],
      "source": [
        "import numpy as np\n",
        "\n",
        "time = mat_dict['time'].reshape(-1)\n",
        "tsamp = time[1] - time[0]\n",
        "ttotal = time[-1] - time[0]\n",
        "\n",
        "print(\"Sampling time\", tsamp)\n",
        "print(\"Total duration of recording\", ttotal)\n"
      ]
    },
    {
      "cell_type": "markdown",
      "metadata": {
        "id": "jP5EcDtTx8sH"
      },
      "source": [
        "## Linear fitting on all the neurons\n",
        "\n",
        "First divide the data into training and test with approximately half the samples in each.  Let `Xtr` and `ytr` denote the training data and `Xts` and `yts` denote the test data."
      ]
    },
    {
      "cell_type": "code",
      "execution_count": 7,
      "metadata": {
        "collapsed": true,
        "colab": {
          "base_uri": "https://localhost:8080/"
        },
        "id": "fyGArw9bx8sH",
        "outputId": "2b2665f1-6c0a-4b6e-9295-bf55a94b8240"
      },
      "outputs": [
        {
          "output_type": "stream",
          "name": "stdout",
          "text": [
            "Xtr (7768, 196) , ytr (7768,)\n",
            "Xts (7768, 196) , yts (7768,)\n"
          ]
        }
      ],
      "source": [
        "nt = X0.shape[0]  # Number of observations, not columns\n",
        "\n",
        "split_point = nt // 2\n",
        "\n",
        "Xtr = X0[:split_point, :]  # Training data: 1st half of the rows\n",
        "ytr = y0[:split_point]     # Training labels: 1st half\n",
        "\n",
        "Xts = X0[split_point:, :]  # Test data: 2nd half of the rows\n",
        "yts = y0[split_point:]     # Test labels: 2nd half\n",
        "\n",
        "print(\"Xtr\", Xtr.shape, \", ytr\", ytr.shape)\n",
        "print(\"Xts\", Xts.shape, \", yts\", yts.shape)\n",
        "\n"
      ]
    },
    {
      "cell_type": "markdown",
      "metadata": {
        "id": "zQaqUQbpx8sH"
      },
      "source": [
        "Now, we begin by trying to fit a simple linear model using *all* the neurons as predictors.  To this end, use the `sklearn.linear_model` package to create a regression object, and fit the linear model to the training data."
      ]
    },
    {
      "cell_type": "code",
      "execution_count": 8,
      "metadata": {
        "collapsed": true,
        "colab": {
          "base_uri": "https://localhost:8080/"
        },
        "id": "XVrCysxLx8sI",
        "outputId": "24aba106-c28a-45c2-fc80-cc326c7d73f8"
      },
      "outputs": [
        {
          "output_type": "stream",
          "name": "stdout",
          "text": [
            "Coefficients: [-8.12905437e-04  3.49818813e-03  3.82988601e-03  3.19318724e-03\n",
            "  6.04677568e-04  2.78130263e-03 -3.62127256e-03  3.29975846e-03\n",
            " -2.45577005e-03  1.53326144e-03  3.55451654e-03  7.01880809e-03\n",
            "  9.81737179e-04  1.46472203e+10  6.35374776e-04 -9.96901891e-05\n",
            "  1.29698220e-03 -1.40748681e-02 -3.00193932e-03 -5.19882166e-03\n",
            " -1.98445368e-03 -2.96890783e-04  2.31904514e-03 -2.41394693e-04\n",
            "  3.03855374e-02 -8.88102272e-04  1.40629672e-03  1.59608528e-04\n",
            " -1.23150120e-02  5.86400934e-04 -7.62708537e-04  5.70997771e-04\n",
            "  1.92906618e-03  5.70192933e-05  6.81877136e-04 -1.12247467e-03\n",
            " -4.25815582e-04  1.44111812e-02  1.94811821e-03  3.17859650e-03\n",
            " -2.64252573e-02 -1.37782973e+10  2.52659619e-03  5.84125519e-04\n",
            " -1.07288361e-05  1.71518326e-03 -2.62467936e-03 -8.30173492e-04\n",
            " -2.44050324e-02 -1.04039013e-02 -2.86480784e-03 -7.47203827e-04\n",
            "  2.17050314e-03 -3.35992873e-03  7.20441341e-04  3.03256512e-03\n",
            "  3.03745270e-03  3.89850140e-03  7.84075260e-03  2.03990936e-03\n",
            "  9.19546932e-04  1.40905380e-03  3.88050079e-03  8.89371336e-03\n",
            "  6.46114349e-04  7.76141882e-04 -6.08444214e-04  7.49015808e-03\n",
            "  8.07857513e-03  2.40466744e-03  1.90816522e-02 -6.59286976e-04\n",
            " -1.64404511e-03 -3.38488817e-03  2.89487410e-02 -6.91413879e-06\n",
            "  1.29461288e-03  1.20699406e-04 -1.57523155e-03 -2.92921066e-03\n",
            " -2.78401375e-03  2.60715559e-03  1.28442422e-03 -4.58002090e-04\n",
            "  2.07579881e-03  1.61344204e-02  1.33907795e-03 -8.97645950e-04\n",
            " -1.02942735e-02 -1.44518614e-02  3.83079052e-04  2.08759308e-03\n",
            " -7.43031502e-03 -2.43663788e-04 -3.23009491e-03  3.71086597e-03\n",
            " -1.28837228e-02 -3.01837921e-04 -7.88688660e-04 -3.99959087e-03\n",
            " -3.97121906e-03  2.55431980e-04  2.40707397e-03  3.46660614e-04\n",
            " -2.66122818e-03  4.51636479e+08  7.38978386e-04 -8.12053680e-04\n",
            "  1.00779533e-03 -4.31060791e-03  4.32599336e-05 -2.69675255e-03\n",
            "  1.78551674e-03 -4.89479303e-03  4.37164307e-03  1.13385916e-03\n",
            " -3.89885902e-03 -2.72858143e-03 -3.14094406e-02  1.45106465e-02\n",
            " -3.28540802e-04 -3.08787823e-03  1.31783428e+09 -5.01143932e-03\n",
            "  7.08818436e-04  1.60107017e-03  5.60924411e-03  4.96268272e-04\n",
            " -1.80906057e-03  3.88675928e-03  1.19532272e-03 -3.48031521e-03\n",
            " -1.53827667e-03 -5.04779816e-03 -5.81085682e-03 -3.01456451e-03\n",
            "  1.77264214e-04 -1.84082985e-03  5.89881837e-03 -6.14278793e+08\n",
            " -1.10387802e-03  1.19686127e-04  7.81521201e-04 -1.03161335e-02\n",
            "  1.01059675e-03  2.55823135e-04 -8.88347626e-04 -1.44767761e-03\n",
            " -7.42435455e-04 -1.06424093e-03 -3.42810154e-03 -2.78496742e-03\n",
            " -2.15977430e-03  1.33395195e-03 -1.06215477e-03 -2.31504440e-03\n",
            " -6.03401661e-03  7.75933266e-04  1.83176994e-03  3.76164913e-04\n",
            " -5.51611185e-04  2.56085396e-03 -8.17775726e-05 -1.16801262e-03\n",
            "  1.06184483e-02  7.83666968e-03  5.62667847e-04  1.43861771e-03\n",
            "  2.21872330e-03 -4.33683395e-04 -1.14941597e-03  5.45978546e-04\n",
            " -5.19037247e-04 -3.48779559e-03  1.24776326e-02  1.32691860e-03\n",
            " -3.84807587e-03  1.55319500e+03 -7.55548477e-04  9.27925110e-04\n",
            " -1.36456639e-03 -2.72665080e-03 -1.02233887e-03 -2.73764133e-03\n",
            " -1.92672014e-03  1.28382444e-03  6.48021698e-04  1.13677979e-03\n",
            "  2.76231766e-03 -1.89962983e-03 -3.59916687e-03  3.97777557e-03\n",
            " -4.33659554e-03 -2.93630362e-03 -7.58886337e-03 -2.20704079e-03]\n",
            "Intercept: -0.02080549541676613\n"
          ]
        }
      ],
      "source": [
        "from sklearn.linear_model import LinearRegression\n",
        "\n",
        "regressor = LinearRegression()\n",
        "\n",
        "# Fit the model on training data\n",
        "regressor.fit(Xtr, ytr)\n",
        "\n",
        "print(\"Coefficients:\", regressor.coef_)\n",
        "print(\"Intercept:\", regressor.intercept_)\n"
      ]
    },
    {
      "cell_type": "markdown",
      "metadata": {
        "id": "l_n2IFmOx8sI"
      },
      "source": [
        "Measure and print the normalized RSS on the test data.  "
      ]
    },
    {
      "cell_type": "code",
      "execution_count": 11,
      "metadata": {
        "collapsed": true,
        "colab": {
          "base_uri": "https://localhost:8080/"
        },
        "id": "Nz28mQjnx8sI",
        "outputId": "4c602067-22c0-431d-ae29-c3df60952e43"
      },
      "outputs": [
        {
          "output_type": "stream",
          "name": "stdout",
          "text": [
            "Normalized RSS (test data) 4.1641540255669925e+20\n"
          ]
        }
      ],
      "source": [
        "from sklearn.metrics import mean_squared_error\n",
        "import numpy as np\n",
        "\n",
        "y_pred = regressor.predict(Xts)\n",
        "\n",
        "rss = np.sum((yts - y_pred) ** 2)\n",
        "\n",
        "tss = np.sum((yts - np.mean(yts)) ** 2)\n",
        "normalized_rss = rss / tss\n",
        "\n",
        "print(\"Normalized RSS (test data)\", normalized_rss)\n",
        "\n"
      ]
    },
    {
      "cell_type": "markdown",
      "metadata": {
        "id": "28QSPg6tx8sI"
      },
      "source": [
        "You should see that the test error is enormous -- the model does not generalize to the test data at all."
      ]
    },
    {
      "cell_type": "markdown",
      "metadata": {
        "id": "2LcVdgqUx8sI"
      },
      "source": [
        "## Linear Fitting  with Heuristic Model Selection\n",
        "\n",
        "The above shows that we need a way to reduce the model complexity.  One simple idea is to select only the neurons that individually have a high correlation with the output.   \n",
        "\n",
        "Write code which computes the coefficient of determination, $R^2_k$, for each neuron $k$.  Plot the $R^2_k$ values.  \n",
        "\n",
        "You can use a for loop over each neuron, but if you want to make efficient code try to avoid the for loop and use [python broadcasting](../Basics/numpy_axes_broadcasting.ipynb)."
      ]
    },
    {
      "cell_type": "code",
      "execution_count": 15,
      "metadata": {
        "collapsed": true,
        "colab": {
          "base_uri": "https://localhost:8080/",
          "height": 472
        },
        "id": "egY4WAlwx8sI",
        "outputId": "63a6af44-5968-4fd9-c33d-398ae352b9ae"
      },
      "outputs": [
        {
          "output_type": "display_data",
          "data": {
            "text/plain": [
              "<Figure size 640x480 with 1 Axes>"
            ],
            "image/png": "[encoded data removed]"
          },
          "metadata": {}
        }
      ],
      "source": [
        "from sklearn.metrics import r2_score\n",
        "\n",
        "Rsq = np.array([r2_score(ytr, Xtr[:, i]) for i in range(Xtr.shape[1])])\n",
        "\n",
        "plt.stem(Rsq)\n",
        "plt.xlabel(\"Neuron\")\n",
        "plt.ylabel(\"R^2 value\")\n",
        "plt.title(\"R^2 values for each neuron\")\n",
        "plt.show()"
      ]
    },
    {
      "cell_type": "markdown",
      "metadata": {
        "id": "EYFFI-yax8sJ"
      },
      "source": [
        "We see that many neurons have low correlation and can probably be discarded from the model.    \n",
        "\n",
        "Use the `np.argsort()` command to find the indices of the `d=50` neurons with the highest $R^2_k$ value.  Put the `d` indices into an array `Isel`.  Print the indices of the neurons with the 10 highest correlations."
      ]
    },
    {
      "cell_type": "code",
      "execution_count": 19,
      "metadata": {
        "collapsed": true,
        "colab": {
          "base_uri": "https://localhost:8080/"
        },
        "id": "Bbwf1R6Yx8sJ",
        "outputId": "3bf96605-6f36-410c-918a-a3348804f901"
      },
      "outputs": [
        {
          "output_type": "stream",
          "name": "stdout",
          "text": [
            "Indices of the neurons with the 10 highest correlations: [ 13  41 139 122 105 177  24  82  81  17]\n"
          ]
        }
      ],
      "source": [
        "d = 50  # Number of neurons to use\n",
        "\n",
        "Isel = np.argsort(Rsq)[-d:][::-1]\n",
        "print(\"Indices of the neurons with the 10 highest correlations:\", Isel[:10])\n"
      ]
    },
    {
      "cell_type": "markdown",
      "metadata": {
        "id": "OMr_Cl2Bx8sJ"
      },
      "source": [
        "Fit a model using only the `d` neurons selected in the previous step and print both the test RSS per sample and the normalized test RSS."
      ]
    },
    {
      "cell_type": "code",
      "execution_count": 26,
      "metadata": {
        "collapsed": true,
        "colab": {
          "base_uri": "https://localhost:8080/"
        },
        "id": "tXvVL-E7x8sJ",
        "outputId": "9b62b2ad-8aa0-48c1-dc63-9989ef83d837"
      },
      "outputs": [
        {
          "output_type": "stream",
          "name": "stdout",
          "text": [
            "Test RSS per sample 1.1288553073047728e+21\n",
            "Normalized test RSS 7.47282719051887e+19\n"
          ]
        }
      ],
      "source": [
        "from sklearn.linear_model import LinearRegression\n",
        "from sklearn.metrics import mean_squared_error\n",
        "\n",
        "\n",
        "Xtr_sel = Xtr[:, Isel]\n",
        "Xts_sel = Xts[:, Isel]\n",
        "\n",
        "regressor_sel = LinearRegression()\n",
        "regressor_sel.fit(Xtr_sel, ytr)\n",
        "\n",
        "y_pred_sel = regressor_sel.predict(Xts_sel)\n",
        "\n",
        "rss_per_sample = mean_squared_error(yts, y_pred_sel)\n",
        "\n",
        "tss = np.sum((yts - np.mean(yts)) ** 2)\n",
        "normalized_rss = rss_per_sample / tss\n",
        "\n",
        "print(\"Test RSS per sample\", rss_per_sample)\n",
        "print(\"Normalized test RSS\", normalized_rss)\n"
      ]
    },
    {
      "cell_type": "markdown",
      "metadata": {
        "id": "JsgnB8V-x8sJ"
      },
      "source": [
        "Create a scatter plot of the predicted vs. actual hand motion on the test data.  On the same plot, plot the line where `yts_hat = yts`."
      ]
    },
    {
      "cell_type": "code",
      "execution_count": 28,
      "metadata": {
        "collapsed": true,
        "colab": {
          "base_uri": "https://localhost:8080/",
          "height": 564
        },
        "id": "SEfZdGycx8sJ",
        "outputId": "2c6f2817-b659-43e4-ff7f-ee7acd1e27ba"
      },
      "outputs": [
        {
          "output_type": "display_data",
          "data": {
            "text/plain": [
              "<Figure size 800x600 with 1 Axes>"
            ],
            "image/png": "[encoded data removed]"
          },
          "metadata": {}
        }
      ],
      "source": [
        "\n",
        "plt.figure(figsize=(8, 6))\n",
        "plt.scatter(yts, y_pred_sel, alpha=0.5, label=\"Predicted vs Actual\")\n",
        "\n",
        "plt.plot([yts.min(), yts.max()], [yts.min(), yts.max()], 'r--', label=\"y_pred = y_actual\")\n",
        "\n",
        "plt.xlabel(\"Actual Hand Motion (yts)\")\n",
        "plt.ylabel(\"Predicted Hand Motion (y_pred)\")\n",
        "plt.title(\"Predicted vs. Actual Hand Motion on Test Data\")\n",
        "plt.legend()\n",
        "plt.grid(True)\n",
        "plt.show()"
      ]
    },
    {
      "cell_type": "markdown",
      "metadata": {
        "id": "r0TXwwEvx8sJ"
      },
      "source": [
        "## Using K-fold cross validation for the optimal number of neurons\n",
        "\n",
        "In the above, we fixed `d=50`.  We can use cross validation to try to determine the best number of neurons to use.  Try model orders with `d=10,20,...,190`.  For each value of `d`, use K-fold validation with 10 folds to estimate the test RSS.  For a data set this size, each fold will take a few seconds to compute, so it may be useful to print the progress."
      ]
    },
    {
      "cell_type": "markdown",
      "source": [],
      "metadata": {
        "id": "W3HkDKXx0bwX"
      }
    },
    {
      "cell_type": "code",
      "execution_count": 36,
      "metadata": {
        "collapsed": true,
        "colab": {
          "base_uri": "https://localhost:8080/",
          "height": 1000
        },
        "id": "BikRd6J6x8sK",
        "outputId": "d6e35309-b1dc-483d-ba99-577b4f3f427a"
      },
      "outputs": [
        {
          "output_type": "stream",
          "name": "stdout",
          "text": [
            "Evaluating model with 10 neurons...\n",
            "Test RSS for d=10: 1.352493496800527\n",
            "Evaluating model with 20 neurons...\n",
            "Test RSS for d=20: 1.3563267549385156\n",
            "Evaluating model with 30 neurons...\n",
            "Test RSS for d=30: 7.275993070822429e+22\n",
            "Evaluating model with 40 neurons...\n",
            "Test RSS for d=40: 1.1513841609147012e+21\n",
            "Evaluating model with 50 neurons...\n",
            "Test RSS for d=50: 7.81539103750334e+17\n",
            "Evaluating model with 60 neurons...\n",
            "Test RSS for d=60: 7.997230021132711e+18\n",
            "Evaluating model with 70 neurons...\n",
            "Test RSS for d=70: 7.496627889957054e+18\n",
            "Evaluating model with 80 neurons...\n",
            "Test RSS for d=80: 1.5911983093801437e+17\n",
            "Evaluating model with 90 neurons...\n",
            "Test RSS for d=90: 1.5588025074808206e+20\n",
            "Evaluating model with 100 neurons...\n",
            "Test RSS for d=100: 6.6428887700544774e+19\n",
            "Evaluating model with 110 neurons...\n",
            "Test RSS for d=110: 1.0553129803039423e+20\n",
            "Evaluating model with 120 neurons...\n",
            "Test RSS for d=120: 1.2179743027839074e+19\n",
            "Evaluating model with 130 neurons...\n",
            "Test RSS for d=130: 1.7381169438639627e+20\n",
            "Evaluating model with 140 neurons...\n",
            "Test RSS for d=140: 1.333880096703825e+20\n",
            "Evaluating model with 150 neurons...\n",
            "Test RSS for d=150: 8.352682134180323e+19\n",
            "Evaluating model with 160 neurons...\n",
            "Test RSS for d=160: 1.9854823287056535e+20\n",
            "Evaluating model with 170 neurons...\n",
            "Test RSS for d=170: 1.7260856062074638e+20\n",
            "Evaluating model with 180 neurons...\n",
            "Test RSS for d=180: 1.4008858462542217e+19\n",
            "Evaluating model with 190 neurons...\n",
            "Test RSS for d=190: 3.5963565293210796e+19\n",
            "Optimal number of neurons: 10\n"
          ]
        },
        {
          "output_type": "display_data",
          "data": {
            "text/plain": [
              "<Figure size 800x600 with 1 Axes>"
            ],
            "image/png": "[encoded data removed]"
          },
          "metadata": {}
        }
      ],
      "source": [
        "import numpy as np\n",
        "import sklearn.model_selection\n",
        "from sklearn.linear_model import LinearRegression\n",
        "from sklearn.metrics import mean_squared_error\n",
        "import matplotlib.pyplot as plt\n",
        "\n",
        "# Create a k-fold object\n",
        "nfold = 10\n",
        "kf = sklearn.model_selection.KFold(n_splits=nfold,shuffle=True)\n",
        "\n",
        "# Model orders to be tested\n",
        "dtest = np.arange(10,200,10)\n",
        "nd = len(dtest)\n",
        "\n",
        "test_rss = np.zeros(nd)\n",
        "\n",
        "# Loop over each value of d\n",
        "for idx, d in enumerate(dtest):\n",
        "    print(f\"Evaluating model with {d} neurons...\")\n",
        "\n",
        "    Isel = np.argsort(Rsq)[-d:][::-1]\n",
        "    Xtr_sel = Xtr[:, Isel]\n",
        "\n",
        "    fold_rss = []\n",
        "\n",
        "    for train_index, val_index in kf.split(Xtr_sel):\n",
        "\n",
        "        X_train, X_val = Xtr_sel[train_index], Xtr_sel[val_index]\n",
        "        y_train, y_val = ytr[train_index], ytr[val_index]\n",
        "\n",
        "        regressor = LinearRegression()\n",
        "        regressor.fit(X_train, y_train)\n",
        "\n",
        "        y_pred_val = regressor.predict(X_val)\n",
        "\n",
        "        rss_val = np.sum((y_val - y_pred_val) ** 2)\n",
        "        fold_rss.append(rss_val)\n",
        "\n",
        "    test_rss[idx] = np.mean(fold_rss)\n",
        "\n",
        "    print(f\"Test RSS for d={d}: {test_rss[idx]}\")\n",
        "\n",
        "optimal_d = dtest[np.argmin(test_rss)]\n",
        "print(f\"Optimal number of neurons: {optimal_d}\")\n",
        "\n",
        "plt.figure(figsize=(8, 6))\n",
        "plt.plot(dtest, test_rss, marker='o')\n",
        "plt.xlabel('Number of Neurons (d)')\n",
        "plt.ylabel('Test RSS')\n",
        "plt.title('Test RSS for Different Numbers of Neurons')\n",
        "plt.grid(True)\n",
        "plt.show()"
      ]
    },
    {
      "cell_type": "markdown",
      "metadata": {
        "id": "CHhDTbhOx8sK"
      },
      "source": [
        "\n",
        "Compute the RSS test mean and standard error and plot them as a function of the model order `d` using the `plt.errorbar()` method."
      ]
    },
    {
      "cell_type": "code",
      "execution_count": 38,
      "metadata": {
        "collapsed": true,
        "colab": {
          "base_uri": "https://localhost:8080/",
          "height": 600
        },
        "id": "UXq9C0v0x8sK",
        "outputId": "df6ff73a-a399-4f39-87e8-01a7ed625729"
      },
      "outputs": [
        {
          "output_type": "stream",
          "name": "stdout",
          "text": [
            "Mean RSS for d=190: 3.5963565293210796e+19\n",
            "Standard Error for d=190: 2.846422759768105e+19\n"
          ]
        },
        {
          "output_type": "display_data",
          "data": {
            "text/plain": [
              "<Figure size 800x600 with 1 Axes>"
            ],
            "image/png": "[encoded data removed]"
          },
          "metadata": {}
        }
      ],
      "source": [
        "    import numpy as np\n",
        "    import sklearn.model_selection\n",
        "    from sklearn.linear_model import LinearRegression\n",
        "    from sklearn.metrics import mean_squared_error\n",
        "    import matplotlib.pyplot as plt\n",
        "\n",
        "    mean_rss = np.zeros(nd)\n",
        "    std_err_rss = np.zeros(nd)\n",
        "\n",
        "    mean_rss[idx] = np.mean(fold_rss)\n",
        "    std_err_rss[idx] = np.std(fold_rss) / np.sqrt(nfold)\n",
        "\n",
        "    print(f\"Mean RSS for d={d}: {mean_rss[idx]}\")\n",
        "    print(f\"Standard Error for d={d}: {std_err_rss[idx]}\")\n",
        "\n",
        "    # Plot mean RSS with error bars (standard error)\n",
        "    plt.figure(figsize=(8, 6))\n",
        "    plt.errorbar(dtest, mean_rss, yerr=std_err_rss, fmt='o', linestyle='-', capsize=5, label='Mean RSS ± SEM')\n",
        "    plt.xlabel('Number of Neurons (d)')\n",
        "    plt.ylabel('Mean RSS')\n",
        "    plt.title('Mean RSS with Standard Error for Different Numbers of Neurons')\n",
        "    plt.grid(True)\n",
        "    plt.legend()\n",
        "    plt.show()"
      ]
    },
    {
      "cell_type": "markdown",
      "metadata": {
        "id": "1UUilxrix8sK"
      },
      "source": [
        "Find the optimal order using the one standard error rule. Print the optimal value of `d` and the mean test RSS per sample at the optimal `d`.  "
      ]
    },
    {
      "cell_type": "code",
      "execution_count": 40,
      "metadata": {
        "collapsed": true,
        "colab": {
          "base_uri": "https://localhost:8080/"
        },
        "id": "T2DDmzJ3x8sK",
        "outputId": "456cbd21-9c19-484e-db06-6e0398b2a724"
      },
      "outputs": [
        {
          "output_type": "stream",
          "name": "stdout",
          "text": [
            "Optimal number of neurons (d): 10\n",
            "Mean test RSS per sample at the optimal d: 0.0\n"
          ]
        }
      ],
      "source": [
        "\n",
        "min_rss = np.min(mean_rss)\n",
        "one_std_err_rule_rss = min_rss + std_err_rss[np.argmin(mean_rss)]\n",
        "\n",
        "optimal_d_idx = np.argmax(mean_rss <= one_std_err_rule_rss)\n",
        "optimal_d = dtest[optimal_d_idx]\n",
        "optimal_rss = mean_rss[optimal_d_idx]\n",
        "\n",
        "print(f\"Optimal number of neurons (d): {optimal_d}\")\n",
        "print(f\"Mean test RSS per sample at the optimal d: {optimal_rss}\")"
      ]
    },
    {
      "cell_type": "markdown",
      "metadata": {
        "id": "yAmWl8oMx8sK"
      },
      "source": [
        "## More Fun\n",
        "\n",
        "You can play around with this and many other neural data sets.  Two things that one can do to further improve the quality of fit are:\n",
        "* Use more time lags in the data.  Instead of predicting the hand motion from the spikes in the previous time, use the spikes in the last few delays.\n",
        "* Add a nonlinearity.  You should see that the predicted hand motion differs from the actual for high values of the actual.  You can improve the fit by adding a nonlinearity on the output.  A polynomial fit would work well here.\n",
        "\n",
        "You do not need to do these, but you can try them if you like."
      ]
    },
    {
      "cell_type": "code",
      "execution_count": null,
      "metadata": {
        "collapsed": true,
        "id": "MXHlfXBlx8sL"
      },
      "outputs": [],
      "source": []
    }
  ],
  "metadata": {
    "anaconda-cloud": {},
    "kernelspec": {
      "display_name": "Python 3",
      "language": "python",
      "name": "python3"
    },
    "language_info": {
      "codemirror_mode": {
        "name": "ipython",
        "version": 3
      },
      "file_extension": ".py",
      "mimetype": "text/x-python",
      "name": "python",
      "nbconvert_exporter": "python",
      "pygments_lexer": "ipython3",
      "version": "3.6.1"
    },
    "colab": {
      "provenance": []
    }
  },
  "nbformat": 4,
  "nbformat_minor": 0
}